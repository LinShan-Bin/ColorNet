{
 "cells": [
  {
   "cell_type": "code",
   "execution_count": null,
   "metadata": {},
   "outputs": [],
   "source": [
    "import json\n",
    "from pprint import pprint"
   ]
  },
  {
   "cell_type": "code",
   "execution_count": null,
   "metadata": {},
   "outputs": [],
   "source": [
    "with open('dataset/medium/train_all.json', 'r') as f:\n",
    "    labels = json.load(f)"
   ]
  },
  {
   "cell_type": "code",
   "execution_count": null,
   "metadata": {},
   "outputs": [],
   "source": [
    "pprint(labels[\"601421234332\"], sort_dicts=False)"
   ]
  },
  {
   "cell_type": "code",
   "execution_count": null,
   "metadata": {},
   "outputs": [],
   "source": [
    "!python train.py --name clothes_monet --model monet --dataroot '../dataset/medium' --gpu_ids -1 --batch_size 1 --num_slots 3 --input_nc 3 --z_dim 30"
   ]
  },
  {
   "cell_type": "code",
   "execution_count": 1,
   "metadata": {},
   "outputs": [],
   "source": [
    "import numpy as np\n",
    "from gensim.models import KeyedVectors"
   ]
  },
  {
   "cell_type": "code",
   "execution_count": 2,
   "metadata": {},
   "outputs": [],
   "source": [
    "word2vec = KeyedVectors.load_word2vec_format('./merge_sgns_bigram_char300.txt', binary=False)"
   ]
  },
  {
   "cell_type": "code",
   "execution_count": 3,
   "metadata": {},
   "outputs": [
    {
     "name": "stdout",
     "output_type": "stream",
     "text": [
      "0.53147215 0.55452967 0.6240347 0.34335798 0.55790067\n"
     ]
    }
   ],
   "source": [
    "red = '红'\n",
    "reds = '红色'\n",
    "white = '白'\n",
    "black = '黑'\n",
    "pink = '粉'\n",
    "vred = word2vec[red]\n",
    "vreds = word2vec[reds]\n",
    "vwhite = word2vec[white]\n",
    "vblack = word2vec[black]\n",
    "vpink = word2vec[pink]\n",
    "covrw = np.dot(vred, vwhite) / (np.linalg.norm(vred) * np.linalg.norm(vwhite))\n",
    "covrk = np.dot(vred, vblack) / (np.linalg.norm(vred) * np.linalg.norm(vblack))\n",
    "covwk = np.dot(vwhite, vblack) / (np.linalg.norm(vwhite) * np.linalg.norm(vblack))\n",
    "covpr = np.dot(vpink, vred) / (np.linalg.norm(vpink) * np.linalg.norm(vred))\n",
    "covrr = np.dot(vreds, vred) / (np.linalg.norm(vreds) * np.linalg.norm(vred))\n",
    "print(covrw, covrk, covwk, covpr, covrr)"
   ]
  },
  {
   "cell_type": "code",
   "execution_count": 4,
   "metadata": {},
   "outputs": [
    {
     "name": "stdout",
     "output_type": "stream",
     "text": [
      "[('黄', 0.6442532539367676), ('黑', 0.6240347623825073), ('白红', 0.6085060238838196), ('白棕', 0.5869372487068176), ('紫', 0.5859890580177307), ('白就', 0.5846289396286011), ('米白', 0.5840865969657898), ('白再', 0.5804263949394226), ('白配', 0.5757509469985962), ('白紫', 0.5732380151748657), ('纯白', 0.5731773376464844), ('雪白', 0.5714313387870789), ('白两', 0.571010947227478), ('白衬', 0.5649784803390503), ('灰白', 0.563745379447937), ('不白', 0.5636759996414185), ('麻白', 0.5581346750259399), ('黄白', 0.556592583656311), ('白格', 0.5539156198501587), ('白几', 0.5526947975158691)]\n"
     ]
    },
    {
     "name": "stderr",
     "output_type": "stream",
     "text": [
      "/Users/linshan/miniforge3/envs/prml/lib/python3.9/site-packages/gensim/models/keyedvectors.py:850: RuntimeWarning: invalid value encountered in true_divide\n",
      "  dists = dot(self.vectors[clip_start:clip_end], mean) / self.norms[clip_start:clip_end]\n"
     ]
    }
   ],
   "source": [
    "red = '白'\n",
    "neighbors = word2vec.most_similar(red, topn=20)\n",
    "print(neighbors)"
   ]
  },
  {
   "cell_type": "code",
   "execution_count": 22,
   "metadata": {},
   "outputs": [
    {
     "name": "stdout",
     "output_type": "stream",
     "text": [
      "泡泡\n",
      "粉\n"
     ]
    }
   ],
   "source": [
    "import jieba\n",
    "\n",
    "words_j = jieba.cut('泡泡粉', cut_all=False)\n",
    "vecs = []\n",
    "for word in words_j:\n",
    "    print(word)\n",
    "    vecs.append(word2vec[word])"
   ]
  }
 ],
 "metadata": {
  "interpreter": {
   "hash": "21bac44a2579471fb422f24ada59b7755552e433b846d8d3e893e5456907b211"
  },
  "kernelspec": {
   "display_name": "Python 3.9.10 ('prml')",
   "language": "python",
   "name": "python3"
  },
  "language_info": {
   "codemirror_mode": {
    "name": "ipython",
    "version": 3
   },
   "file_extension": ".py",
   "mimetype": "text/x-python",
   "name": "python",
   "nbconvert_exporter": "python",
   "pygments_lexer": "ipython3",
   "version": "3.9.10"
  },
  "orig_nbformat": 4
 },
 "nbformat": 4,
 "nbformat_minor": 2
}
