{
 "cells": [
  {
   "cell_type": "code",
   "execution_count": 1,
   "metadata": {},
   "outputs": [],
   "source": [
    "import torch"
   ]
  },
  {
   "cell_type": "code",
   "execution_count": 2,
   "metadata": {},
   "outputs": [],
   "source": [
    "checkpoint = torch.load('pretrained_model/ConvX_base/checkpoint.pth', map_location='cpu')"
   ]
  },
  {
   "cell_type": "code",
   "execution_count": 3,
   "metadata": {},
   "outputs": [
    {
     "name": "stdout",
     "output_type": "stream",
     "text": [
      "dict_keys(['epoch', 'model_state_dict', 'optimizer_state_dict', 'scheduler_state_dict', 'loss', 'acc'])\n"
     ]
    }
   ],
   "source": [
    "print(checkpoint.keys())"
   ]
  },
  {
   "cell_type": "code",
   "execution_count": 4,
   "metadata": {},
   "outputs": [
    {
     "name": "stdout",
     "output_type": "stream",
     "text": [
      "odict_keys(['features.0.0.weight', 'features.0.0.bias', 'features.0.1.weight', 'features.0.1.bias', 'features.1.0.layer_scale', 'features.1.0.block.0.weight', 'features.1.0.block.0.bias', 'features.1.0.block.2.weight', 'features.1.0.block.2.bias', 'features.1.0.block.3.weight', 'features.1.0.block.3.bias', 'features.1.0.block.5.weight', 'features.1.0.block.5.bias', 'features.1.1.layer_scale', 'features.1.1.block.0.weight', 'features.1.1.block.0.bias', 'features.1.1.block.2.weight', 'features.1.1.block.2.bias', 'features.1.1.block.3.weight', 'features.1.1.block.3.bias', 'features.1.1.block.5.weight', 'features.1.1.block.5.bias', 'features.1.2.layer_scale', 'features.1.2.block.0.weight', 'features.1.2.block.0.bias', 'features.1.2.block.2.weight', 'features.1.2.block.2.bias', 'features.1.2.block.3.weight', 'features.1.2.block.3.bias', 'features.1.2.block.5.weight', 'features.1.2.block.5.bias', 'features.2.0.weight', 'features.2.0.bias', 'features.2.1.weight', 'features.2.1.bias', 'features.3.0.layer_scale', 'features.3.0.block.0.weight', 'features.3.0.block.0.bias', 'features.3.0.block.2.weight', 'features.3.0.block.2.bias', 'features.3.0.block.3.weight', 'features.3.0.block.3.bias', 'features.3.0.block.5.weight', 'features.3.0.block.5.bias', 'features.3.1.layer_scale', 'features.3.1.block.0.weight', 'features.3.1.block.0.bias', 'features.3.1.block.2.weight', 'features.3.1.block.2.bias', 'features.3.1.block.3.weight', 'features.3.1.block.3.bias', 'features.3.1.block.5.weight', 'features.3.1.block.5.bias', 'features.3.2.layer_scale', 'features.3.2.block.0.weight', 'features.3.2.block.0.bias', 'features.3.2.block.2.weight', 'features.3.2.block.2.bias', 'features.3.2.block.3.weight', 'features.3.2.block.3.bias', 'features.3.2.block.5.weight', 'features.3.2.block.5.bias', 'features.4.0.weight', 'features.4.0.bias', 'features.4.1.weight', 'features.4.1.bias', 'features.5.0.layer_scale', 'features.5.0.block.0.weight', 'features.5.0.block.0.bias', 'features.5.0.block.2.weight', 'features.5.0.block.2.bias', 'features.5.0.block.3.weight', 'features.5.0.block.3.bias', 'features.5.0.block.5.weight', 'features.5.0.block.5.bias', 'features.5.1.layer_scale', 'features.5.1.block.0.weight', 'features.5.1.block.0.bias', 'features.5.1.block.2.weight', 'features.5.1.block.2.bias', 'features.5.1.block.3.weight', 'features.5.1.block.3.bias', 'features.5.1.block.5.weight', 'features.5.1.block.5.bias', 'features.5.2.layer_scale', 'features.5.2.block.0.weight', 'features.5.2.block.0.bias', 'features.5.2.block.2.weight', 'features.5.2.block.2.bias', 'features.5.2.block.3.weight', 'features.5.2.block.3.bias', 'features.5.2.block.5.weight', 'features.5.2.block.5.bias', 'features.5.3.layer_scale', 'features.5.3.block.0.weight', 'features.5.3.block.0.bias', 'features.5.3.block.2.weight', 'features.5.3.block.2.bias', 'features.5.3.block.3.weight', 'features.5.3.block.3.bias', 'features.5.3.block.5.weight', 'features.5.3.block.5.bias', 'features.5.4.layer_scale', 'features.5.4.block.0.weight', 'features.5.4.block.0.bias', 'features.5.4.block.2.weight', 'features.5.4.block.2.bias', 'features.5.4.block.3.weight', 'features.5.4.block.3.bias', 'features.5.4.block.5.weight', 'features.5.4.block.5.bias', 'features.5.5.layer_scale', 'features.5.5.block.0.weight', 'features.5.5.block.0.bias', 'features.5.5.block.2.weight', 'features.5.5.block.2.bias', 'features.5.5.block.3.weight', 'features.5.5.block.3.bias', 'features.5.5.block.5.weight', 'features.5.5.block.5.bias', 'features.5.6.layer_scale', 'features.5.6.block.0.weight', 'features.5.6.block.0.bias', 'features.5.6.block.2.weight', 'features.5.6.block.2.bias', 'features.5.6.block.3.weight', 'features.5.6.block.3.bias', 'features.5.6.block.5.weight', 'features.5.6.block.5.bias', 'features.5.7.layer_scale', 'features.5.7.block.0.weight', 'features.5.7.block.0.bias', 'features.5.7.block.2.weight', 'features.5.7.block.2.bias', 'features.5.7.block.3.weight', 'features.5.7.block.3.bias', 'features.5.7.block.5.weight', 'features.5.7.block.5.bias', 'features.5.8.layer_scale', 'features.5.8.block.0.weight', 'features.5.8.block.0.bias', 'features.5.8.block.2.weight', 'features.5.8.block.2.bias', 'features.5.8.block.3.weight', 'features.5.8.block.3.bias', 'features.5.8.block.5.weight', 'features.5.8.block.5.bias', 'features.5.9.layer_scale', 'features.5.9.block.0.weight', 'features.5.9.block.0.bias', 'features.5.9.block.2.weight', 'features.5.9.block.2.bias', 'features.5.9.block.3.weight', 'features.5.9.block.3.bias', 'features.5.9.block.5.weight', 'features.5.9.block.5.bias', 'features.5.10.layer_scale', 'features.5.10.block.0.weight', 'features.5.10.block.0.bias', 'features.5.10.block.2.weight', 'features.5.10.block.2.bias', 'features.5.10.block.3.weight', 'features.5.10.block.3.bias', 'features.5.10.block.5.weight', 'features.5.10.block.5.bias', 'features.5.11.layer_scale', 'features.5.11.block.0.weight', 'features.5.11.block.0.bias', 'features.5.11.block.2.weight', 'features.5.11.block.2.bias', 'features.5.11.block.3.weight', 'features.5.11.block.3.bias', 'features.5.11.block.5.weight', 'features.5.11.block.5.bias', 'features.5.12.layer_scale', 'features.5.12.block.0.weight', 'features.5.12.block.0.bias', 'features.5.12.block.2.weight', 'features.5.12.block.2.bias', 'features.5.12.block.3.weight', 'features.5.12.block.3.bias', 'features.5.12.block.5.weight', 'features.5.12.block.5.bias', 'features.5.13.layer_scale', 'features.5.13.block.0.weight', 'features.5.13.block.0.bias', 'features.5.13.block.2.weight', 'features.5.13.block.2.bias', 'features.5.13.block.3.weight', 'features.5.13.block.3.bias', 'features.5.13.block.5.weight', 'features.5.13.block.5.bias', 'features.5.14.layer_scale', 'features.5.14.block.0.weight', 'features.5.14.block.0.bias', 'features.5.14.block.2.weight', 'features.5.14.block.2.bias', 'features.5.14.block.3.weight', 'features.5.14.block.3.bias', 'features.5.14.block.5.weight', 'features.5.14.block.5.bias', 'features.5.15.layer_scale', 'features.5.15.block.0.weight', 'features.5.15.block.0.bias', 'features.5.15.block.2.weight', 'features.5.15.block.2.bias', 'features.5.15.block.3.weight', 'features.5.15.block.3.bias', 'features.5.15.block.5.weight', 'features.5.15.block.5.bias', 'features.5.16.layer_scale', 'features.5.16.block.0.weight', 'features.5.16.block.0.bias', 'features.5.16.block.2.weight', 'features.5.16.block.2.bias', 'features.5.16.block.3.weight', 'features.5.16.block.3.bias', 'features.5.16.block.5.weight', 'features.5.16.block.5.bias', 'features.5.17.layer_scale', 'features.5.17.block.0.weight', 'features.5.17.block.0.bias', 'features.5.17.block.2.weight', 'features.5.17.block.2.bias', 'features.5.17.block.3.weight', 'features.5.17.block.3.bias', 'features.5.17.block.5.weight', 'features.5.17.block.5.bias', 'features.5.18.layer_scale', 'features.5.18.block.0.weight', 'features.5.18.block.0.bias', 'features.5.18.block.2.weight', 'features.5.18.block.2.bias', 'features.5.18.block.3.weight', 'features.5.18.block.3.bias', 'features.5.18.block.5.weight', 'features.5.18.block.5.bias', 'features.5.19.layer_scale', 'features.5.19.block.0.weight', 'features.5.19.block.0.bias', 'features.5.19.block.2.weight', 'features.5.19.block.2.bias', 'features.5.19.block.3.weight', 'features.5.19.block.3.bias', 'features.5.19.block.5.weight', 'features.5.19.block.5.bias', 'features.5.20.layer_scale', 'features.5.20.block.0.weight', 'features.5.20.block.0.bias', 'features.5.20.block.2.weight', 'features.5.20.block.2.bias', 'features.5.20.block.3.weight', 'features.5.20.block.3.bias', 'features.5.20.block.5.weight', 'features.5.20.block.5.bias', 'features.5.21.layer_scale', 'features.5.21.block.0.weight', 'features.5.21.block.0.bias', 'features.5.21.block.2.weight', 'features.5.21.block.2.bias', 'features.5.21.block.3.weight', 'features.5.21.block.3.bias', 'features.5.21.block.5.weight', 'features.5.21.block.5.bias', 'features.5.22.layer_scale', 'features.5.22.block.0.weight', 'features.5.22.block.0.bias', 'features.5.22.block.2.weight', 'features.5.22.block.2.bias', 'features.5.22.block.3.weight', 'features.5.22.block.3.bias', 'features.5.22.block.5.weight', 'features.5.22.block.5.bias', 'features.5.23.layer_scale', 'features.5.23.block.0.weight', 'features.5.23.block.0.bias', 'features.5.23.block.2.weight', 'features.5.23.block.2.bias', 'features.5.23.block.3.weight', 'features.5.23.block.3.bias', 'features.5.23.block.5.weight', 'features.5.23.block.5.bias', 'features.5.24.layer_scale', 'features.5.24.block.0.weight', 'features.5.24.block.0.bias', 'features.5.24.block.2.weight', 'features.5.24.block.2.bias', 'features.5.24.block.3.weight', 'features.5.24.block.3.bias', 'features.5.24.block.5.weight', 'features.5.24.block.5.bias', 'features.5.25.layer_scale', 'features.5.25.block.0.weight', 'features.5.25.block.0.bias', 'features.5.25.block.2.weight', 'features.5.25.block.2.bias', 'features.5.25.block.3.weight', 'features.5.25.block.3.bias', 'features.5.25.block.5.weight', 'features.5.25.block.5.bias', 'features.5.26.layer_scale', 'features.5.26.block.0.weight', 'features.5.26.block.0.bias', 'features.5.26.block.2.weight', 'features.5.26.block.2.bias', 'features.5.26.block.3.weight', 'features.5.26.block.3.bias', 'features.5.26.block.5.weight', 'features.5.26.block.5.bias', 'features.6.0.weight', 'features.6.0.bias', 'features.6.1.weight', 'features.6.1.bias', 'features.7.0.layer_scale', 'features.7.0.block.0.weight', 'features.7.0.block.0.bias', 'features.7.0.block.2.weight', 'features.7.0.block.2.bias', 'features.7.0.block.3.weight', 'features.7.0.block.3.bias', 'features.7.0.block.5.weight', 'features.7.0.block.5.bias', 'features.7.1.layer_scale', 'features.7.1.block.0.weight', 'features.7.1.block.0.bias', 'features.7.1.block.2.weight', 'features.7.1.block.2.bias', 'features.7.1.block.3.weight', 'features.7.1.block.3.bias', 'features.7.1.block.5.weight', 'features.7.1.block.5.bias', 'features.7.2.layer_scale', 'features.7.2.block.0.weight', 'features.7.2.block.0.bias', 'features.7.2.block.2.weight', 'features.7.2.block.2.bias', 'features.7.2.block.3.weight', 'features.7.2.block.3.bias', 'features.7.2.block.5.weight', 'features.7.2.block.5.bias', 'classifier.0.weight', 'classifier.0.bias', 'classifier.2.weight', 'classifier.2.bias'])\n"
     ]
    }
   ],
   "source": [
    "print(checkpoint['model_state_dict'].keys())"
   ]
  },
  {
   "cell_type": "code",
   "execution_count": 5,
   "metadata": {},
   "outputs": [
    {
     "name": "stdout",
     "output_type": "stream",
     "text": [
      "torch.Size([128])\n"
     ]
    }
   ],
   "source": [
    "print(checkpoint['model_state_dict']['features.2.0.weight'].shape)"
   ]
  },
  {
   "cell_type": "code",
   "execution_count": 6,
   "metadata": {},
   "outputs": [
    {
     "name": "stdout",
     "output_type": "stream",
     "text": [
      "dict_keys(['state', 'param_groups'])\n"
     ]
    }
   ],
   "source": [
    "print(checkpoint['optimizer_state_dict'].keys())"
   ]
  }
 ],
 "metadata": {
  "interpreter": {
   "hash": "21bac44a2579471fb422f24ada59b7755552e433b846d8d3e893e5456907b211"
  },
  "kernelspec": {
   "display_name": "Python 3.9.10 ('prml')",
   "language": "python",
   "name": "python3"
  },
  "language_info": {
   "codemirror_mode": {
    "name": "ipython",
    "version": 3
   },
   "file_extension": ".py",
   "mimetype": "text/x-python",
   "name": "python",
   "nbconvert_exporter": "python",
   "pygments_lexer": "ipython3",
   "version": "3.9.10"
  },
  "orig_nbformat": 4
 },
 "nbformat": 4,
 "nbformat_minor": 2
}
