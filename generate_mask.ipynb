{
 "cells": [
  {
   "cell_type": "code",
   "execution_count": null,
   "metadata": {},
   "outputs": [],
   "source": [
    "from tqdm import tqdm\n",
    "import torch\n",
    "import numpy as np\n",
    "from pprint import pprint\n",
    "import matplotlib.pyplot as plt\n",
    "from torchvision.models.detection import maskrcnn_resnet50_fpn\n",
    "from torchvision.utils import draw_bounding_boxes, draw_segmentation_masks\n",
    "import torchvision.transforms.functional as F\n",
    "from torch.utils.data import DataLoader\n",
    "\n",
    "\n",
    "import utils"
   ]
  },
  {
   "cell_type": "code",
   "execution_count": null,
   "metadata": {},
   "outputs": [],
   "source": [
    "device = torch.device('cuda:0' if torch.cuda.is_available() else 'cpu')"
   ]
  },
  {
   "cell_type": "code",
   "execution_count": null,
   "metadata": {},
   "outputs": [],
   "source": [
    "maskrcnn = maskrcnn_resnet50_fpn(pretrained=True, progress=True)\n",
    "maskrcnn = maskrcnn.eval().to(device)"
   ]
  },
  {
   "cell_type": "code",
   "execution_count": null,
   "metadata": {},
   "outputs": [],
   "source": [
    "train_data = utils.ColorfulClothesIMG(data_path='./dataset/medium/', train=True, org=False)\n",
    "test_data = utils.ColorfulClothesIMG(data_path='./dataset/medium/', train=False, org=False)\n",
    "train_loader = DataLoader(train_data, batch_size=1, shuffle=True, num_workers=4)\n",
    "test_loader = DataLoader(test_data, batch_size=1, shuffle=True, num_workers=4)"
   ]
  },
  {
   "cell_type": "code",
   "execution_count": null,
   "metadata": {},
   "outputs": [],
   "source": [
    "pbar = tqdm(train_loader)\n",
    "i = 0\n",
    "ones = torch.ones((1, 224, 224), dtype=torch.bool)\n",
    "for batch in pbar:\n",
    "    img, name = batch\n",
    "    img = img.to(device)\n",
    "    mask = maskrcnn(img)\n",
    "    for i, n in enumerate(name):\n",
    "        try:\n",
    "            bool_mask = mask[i]['masks'][0] > 0.5\n",
    "        except:\n",
    "            bool_mask = ones\n",
    "        save_path =  n.replace('jpg', 'pt')\n",
    "        torch.save(bool_mask.cpu(), save_path)"
   ]
  },
  {
   "cell_type": "code",
   "execution_count": null,
   "metadata": {},
   "outputs": [],
   "source": [
    "pbar = tqdm(test_loader)\n",
    "i = 0\n",
    "ones = torch.ones((1, 224, 224), dtype=torch.bool)\n",
    "for batch in pbar:\n",
    "    img, name = batch\n",
    "    img = img.to(device)\n",
    "    mask = maskrcnn(img)\n",
    "    for i, n in enumerate(name):\n",
    "        try:\n",
    "            bool_mask = mask[i]['masks'][0] > 0.5\n",
    "        except:\n",
    "            bool_mask = ones\n",
    "        save_path =  n.replace('jpg', 'pt')\n",
    "        torch.save(bool_mask.cpu(), save_path)"
   ]
  }
 ],
 "metadata": {
  "interpreter": {
   "hash": "21bac44a2579471fb422f24ada59b7755552e433b846d8d3e893e5456907b211"
  },
  "kernelspec": {
   "display_name": "Python 3.9.10 ('prml')",
   "language": "python",
   "name": "python3"
  },
  "language_info": {
   "codemirror_mode": {
    "name": "ipython",
    "version": 3
   },
   "file_extension": ".py",
   "mimetype": "text/x-python",
   "name": "python",
   "nbconvert_exporter": "python",
   "pygments_lexer": "ipython3",
   "version": "3.9.10"
  },
  "orig_nbformat": 4
 },
 "nbformat": 4,
 "nbformat_minor": 2
}
