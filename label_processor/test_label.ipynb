{
 "cells": [
  {
   "cell_type": "code",
   "execution_count": null,
   "metadata": {},
   "outputs": [],
   "source": [
    "import numpy as np\n",
    "from tqdm import tqdm\n",
    "\n",
    "from label_processor import CStdLib\n",
    "from utils import ColorfulClothesLabel\n",
    "\n",
    "\n",
    "word2label = CStdLib()\n",
    "dataset = ColorfulClothesLabel('./dataset/medium/', 64, word2label, train=True, to_tensor=False)\n",
    "pbar = tqdm(range(len(dataset)))\n",
    "for i in pbar:\n",
    "    dataset[i]\n",
    "np.save('unmatched_labels.npy', word2label.multi)\n",
    "np.save('matched_labels.npy', word2label.unmatched)"
   ]
  },
  {
   "cell_type": "code",
   "execution_count": null,
   "metadata": {},
   "outputs": [],
   "source": [
    "print('Matched: ', word2label.success)\n",
    "print('Unmatched: ', len(word2label.unmatched))\n",
    "print('Multi: ', len(word2label.multi))"
   ]
  },
  {
   "cell_type": "code",
   "execution_count": null,
   "metadata": {},
   "outputs": [],
   "source": [
    "Unmatched = list(set(word2label.unmatched))\n",
    "print('Unmatched: ', len(Unmatched))\n",
    "print(Unmatched)"
   ]
  },
  {
   "cell_type": "code",
   "execution_count": null,
   "metadata": {},
   "outputs": [],
   "source": [
    "Multi = list(set(word2label.multi))\n",
    "print('Multi: ', len(Multi))\n",
    "print(Multi)"
   ]
  },
  {
   "cell_type": "code",
   "execution_count": null,
   "metadata": {},
   "outputs": [],
   "source": [
    "np.save('unmatched_labels.npy', Unmatched)\n",
    "np.save('multi_labels.npy', Multi)"
   ]
  }
 ],
 "metadata": {
  "interpreter": {
   "hash": "21bac44a2579471fb422f24ada59b7755552e433b846d8d3e893e5456907b211"
  },
  "kernelspec": {
   "display_name": "Python 3.9.10 ('prml')",
   "language": "python",
   "name": "python3"
  },
  "language_info": {
   "codemirror_mode": {
    "name": "ipython",
    "version": 3
   },
   "file_extension": ".py",
   "mimetype": "text/x-python",
   "name": "python",
   "nbconvert_exporter": "python",
   "pygments_lexer": "ipython3",
   "version": "3.9.10"
  },
  "orig_nbformat": 4
 },
 "nbformat": 4,
 "nbformat_minor": 2
}
