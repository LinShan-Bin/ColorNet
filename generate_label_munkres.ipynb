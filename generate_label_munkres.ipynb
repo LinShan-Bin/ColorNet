{
 "cells": [
  {
   "cell_type": "code",
   "execution_count": null,
   "metadata": {},
   "outputs": [],
   "source": [
    "import json\n",
    "import numpy as np\n",
    "from scipy.special import softmax\n",
    "from tqdm import tqdm\n",
    "from pprint import pprint\n",
    "from sklearn.cluster import KMeans\n",
    "from munkres import Munkres\n",
    "\n",
    "from label_processor import CStdLib"
   ]
  },
  {
   "cell_type": "code",
   "execution_count": null,
   "metadata": {},
   "outputs": [],
   "source": [
    "with open('result_logits.json', encoding='utf-8') as f:\n",
    "    logits_json = json.load(f)"
   ]
  },
  {
   "cell_type": "code",
   "execution_count": null,
   "metadata": {},
   "outputs": [],
   "source": [
    "embed = CStdLib(single=False)"
   ]
  },
  {
   "cell_type": "code",
   "execution_count": null,
   "metadata": {},
   "outputs": [],
   "source": [
    "pbar = tqdm(logits_json.items())\n",
    "munkres = Munkres()\n",
    "i = 0\n",
    "for key, prod_dict in pbar:\n",
    "    optional_tags = prod_dict['optional_tags']\n",
    "    num_class = len(optional_tags)\n",
    "    imgs_tags = prod_dict['imgs_tags']\n",
    "    imgs_logits = []\n",
    "    for i in range(len(imgs_tags)):\n",
    "        imgs_logits.append(np.fromstring(imgs_tags[i][key + '_{}.jpg'.format(i)], dtype=np.float32, sep=' '))\n",
    "    imgs_logits = np.array(imgs_logits)\n",
    "    \n",
    "    # 聚类\n",
    "    cluster = KMeans(n_clusters=num_class, random_state=42).fit(imgs_logits)\n",
    "    labels = cluster.labels_\n",
    "    \n",
    "    # 计算匹配度\n",
    "    match_score = np.zeros((num_class, num_class))\n",
    "    # match_score[i, j] 表示 kmeans 分类结果为 i 和 optional_tags[j] 的匹配度\n",
    "    embeded_tags = [embed(tag) for tag in optional_tags]\n",
    "    not_matched = False\n",
    "    for i in range(num_class):\n",
    "        id_i = np.where(labels == i)[0]\n",
    "        logits = imgs_logits[id_i]\n",
    "        for j in range(num_class):\n",
    "            logits_ids = embeded_tags[j]\n",
    "            if len(logits_ids) > 0:\n",
    "                logits_j = logits[:, logits_ids]\n",
    "                match_score[i, j] = np.mean(logits_j)\n",
    "            else:\n",
    "                not_matched = True\n",
    "                match_score[i, j] = 1\n",
    "    \n",
    "    # 对 scores 按列归一化\n",
    "    match_score = (np.abs(match_score) +  match_score) / 2. + 1e-7 # relu\n",
    "    match_score_norm = match_score / np.linalg.norm(match_score, axis=0, ord=1)\n",
    "    # match_score_norm = softmax(match_score, axis=0)\n",
    "    \n",
    "    # 使用匈牙利算法计算最优匹配\n",
    "    risk_matrix = 1. - match_score_norm\n",
    "    munkres_result = munkres.compute(risk_matrix)\n",
    "    \n",
    "    # 终于可以写入 json 了\n",
    "    for i in range(num_class):\n",
    "        id_i = np.where(labels == i)[0]\n",
    "        label = optional_tags[munkres_result[i][1]]\n",
    "        for j in id_i:\n",
    "            logits_json[key]['imgs_tags'][j][key + '_{}.jpg'.format(j)] = label\n",
    "    if not_matched:\n",
    "        print(key, '\\n', match_score, '\\n', match_score_norm)\n",
    "        pprint(logits_json[key])"
   ]
  },
  {
   "cell_type": "code",
   "execution_count": null,
   "metadata": {},
   "outputs": [],
   "source": [
    "with open('./result_labels.json', 'w') as f:\n",
    "    json.dump(logits_json, f, indent=4, ensure_ascii=False)"
   ]
  }
 ],
 "metadata": {
  "interpreter": {
   "hash": "21bac44a2579471fb422f24ada59b7755552e433b846d8d3e893e5456907b211"
  },
  "kernelspec": {
   "display_name": "Python 3.9.10 ('prml')",
   "language": "python",
   "name": "python3"
  },
  "language_info": {
   "codemirror_mode": {
    "name": "ipython",
    "version": 3
   },
   "file_extension": ".py",
   "mimetype": "text/x-python",
   "name": "python",
   "nbconvert_exporter": "python",
   "pygments_lexer": "ipython3",
   "version": "3.9.10"
  },
  "orig_nbformat": 4
 },
 "nbformat": 4,
 "nbformat_minor": 2
}
