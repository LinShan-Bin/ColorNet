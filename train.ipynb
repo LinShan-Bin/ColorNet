{
 "cells": [
  {
   "cell_type": "code",
   "execution_count": 1,
   "metadata": {},
   "outputs": [
    {
     "name": "stdout",
     "output_type": "stream",
     "text": [
      "zsh:1: command not found: featurize\n"
     ]
    }
   ],
   "source": [
    "!featurize dataset download 915bd4c7-559e-4105-a817-f16fa180d350"
   ]
  },
  {
   "cell_type": "code",
   "execution_count": 2,
   "metadata": {},
   "outputs": [
    {
     "name": "stdout",
     "output_type": "stream",
     "text": [
      "zsh:1: command not found: featurize\n"
     ]
    }
   ],
   "source": [
    "!featurize dataset download 08c66597-d5ed-45f4-be51-59d6ad217913"
   ]
  },
  {
   "cell_type": "code",
   "execution_count": 3,
   "metadata": {},
   "outputs": [],
   "source": [
    "import torch\n",
    "from torch import nn\n",
    "import torch.nn.functional as F\n",
    "from torch.utils.data import DataLoader, random_split\n",
    "import pytorch_lightning as pl\n",
    "from pytorch_lightning.loggers import TensorBoardLogger\n",
    "from pytorch_lightning.callbacks import ModelCheckpoint\n",
    "\n",
    "\n",
    "import utils\n",
    "import models"
   ]
  },
  {
   "cell_type": "code",
   "execution_count": 4,
   "metadata": {},
   "outputs": [],
   "source": [
    "# embed = utils.Embed(w2v_dic='~/data/merge_sgns_bigram_char300.txt')\n",
    "embed = utils.Embed(w2v_dic='./merge_sgns_bigram_char300.txt')\n",
    "# embed = lambda x: torch.randn(4, 300)"
   ]
  },
  {
   "cell_type": "code",
   "execution_count": 5,
   "metadata": {},
   "outputs": [],
   "source": [
    "# DATA_PATH = '/home/featurize/data/medium/'\n",
    "DATA_PATH = './dataset/medium/'\n",
    "dataset = utils.ColorfulClothesBin(DATA_PATH, embed=embed, train=True)"
   ]
  },
  {
   "cell_type": "code",
   "execution_count": 6,
   "metadata": {},
   "outputs": [
    {
     "name": "stderr",
     "output_type": "stream",
     "text": [
      "Downloading: \"https://download.pytorch.org/models/resnet50-0676ba61.pth\" to /home/featurize/.cache/torch/hub/checkpoints/resnet50-0676ba61.pth\n"
     ]
    },
    {
     "data": {
      "application/vnd.jupyter.widget-view+json": {
       "model_id": "4acfbc0712094e8c9da168b591c99cbe",
       "version_major": 2,
       "version_minor": 0
      },
      "text/plain": [
       "  0%|          | 0.00/97.8M [00:00<?, ?B/s]"
      ]
     },
     "metadata": {},
     "output_type": "display_data"
    },
    {
     "name": "stdout",
     "output_type": "stream",
     "text": [
      "torch.float32\n"
     ]
    }
   ],
   "source": [
    "resnet = models.ResNet50()\n",
    "encoder_layer = nn.TransformerEncoderLayer(d_model=300, nhead=6)\n",
    "clf = models.AttentionCLF(hiddens=[300, 128], encoder_layer=encoder_layer, num_layers=4)\n",
    "net = models.ColorNet(resnet, clf)\n",
    "img = torch.randn(2, 3, 224, 224)\n",
    "tag = torch.randn(2, 4, 300)\n",
    "label = torch.randint(0, 2, (2, 1)).float()\n",
    "res = net((img, tag))\n",
    "loss = F.binary_cross_entropy_with_logits(res, label)\n",
    "print(res.dtype)"
   ]
  },
  {
   "cell_type": "code",
   "execution_count": 11,
   "metadata": {},
   "outputs": [],
   "source": [
    "val_len = int(len(dataset) * 0.1)\n",
    "train, val = random_split(dataset, [len(dataset) - val_len, val_len])"
   ]
  },
  {
   "cell_type": "code",
   "execution_count": 12,
   "metadata": {},
   "outputs": [],
   "source": [
    "logger = TensorBoardLogger('tb_logs', name='my_model')"
   ]
  },
  {
   "cell_type": "code",
   "execution_count": 13,
   "metadata": {},
   "outputs": [
    {
     "name": "stderr",
     "output_type": "stream",
     "text": [
      "GPU available: True, used: True\n",
      "TPU available: False, using: 0 TPU cores\n",
      "IPU available: False, using: 0 IPUs\n",
      "HPU available: False, using: 0 HPUs\n",
      "/home/featurize/work/.local/lib/python3.7/site-packages/pytorch_lightning/callbacks/model_checkpoint.py:611: UserWarning: Checkpoint directory /home/featurize/work/ACNet/tb_logs exists and is not empty.\n",
      "  rank_zero_warn(f\"Checkpoint directory {dirpath} exists and is not empty.\")\n",
      "LOCAL_RANK: 0 - CUDA_VISIBLE_DEVICES: [0]\n",
      "\n",
      "  | Name        | Type         | Params\n",
      "---------------------------------------------\n",
      "0 | pic_encoder | ResNet50     | 24.1 M\n",
      "1 | clf         | AttentionCLF | 6.4 M \n",
      "---------------------------------------------\n",
      "7.0 M     Trainable params\n",
      "23.5 M    Non-trainable params\n",
      "30.5 M    Total params\n",
      "122.145   Total estimated model params size (MB)\n"
     ]
    },
    {
     "data": {
      "application/vnd.jupyter.widget-view+json": {
       "model_id": "8711f67760b24b0c8bad2435935dbb7b",
       "version_major": 2,
       "version_minor": 0
      },
      "text/plain": [
       "Sanity Checking: 0it [00:00, ?it/s]"
      ]
     },
     "metadata": {},
     "output_type": "display_data"
    },
    {
     "name": "stderr",
     "output_type": "stream",
     "text": [
      "Building prefix dict from the default dictionary ...\n",
      "Loading model from cache /tmp/jieba.cache\n",
      "Building prefix dict from the default dictionary ...\n",
      "Building prefix dict from the default dictionary ...\n",
      "Loading model from cache /tmp/jieba.cache\n",
      "Loading model from cache /tmp/jieba.cache\n",
      "Building prefix dict from the default dictionary ...\n",
      "Loading model from cache /tmp/jieba.cache\n",
      "Loading model cost 1.005 seconds.\n",
      "Prefix dict has been built successfully.\n",
      "Loading model cost 1.020 seconds.\n",
      "Prefix dict has been built successfully.\n",
      "Loading model cost 1.017 seconds.\n",
      "Prefix dict has been built successfully.\n",
      "Loading model cost 1.181 seconds.\n",
      "Prefix dict has been built successfully.\n"
     ]
    },
    {
     "data": {
      "application/vnd.jupyter.widget-view+json": {
       "model_id": "da5fa0bdeaeb4f2b8a31a5b4ed0a1b4b",
       "version_major": 2,
       "version_minor": 0
      },
      "text/plain": [
       "Training: 0it [00:00, ?it/s]"
      ]
     },
     "metadata": {},
     "output_type": "display_data"
    },
    {
     "name": "stderr",
     "output_type": "stream",
     "text": [
      "Building prefix dict from the default dictionary ...\n",
      "Loading model from cache /tmp/jieba.cache\n",
      "Building prefix dict from the default dictionary ...\n",
      "Loading model from cache /tmp/jieba.cache\n",
      "Building prefix dict from the default dictionary ...\n",
      "Building prefix dict from the default dictionary ...\n",
      "Loading model from cache /tmp/jieba.cache\n",
      "Loading model from cache /tmp/jieba.cache\n",
      "Loading model cost 0.745 seconds.\n",
      "Prefix dict has been built successfully.\n",
      "Loading model cost 0.763 seconds.\n",
      "Prefix dict has been built successfully.\n",
      "Loading model cost 0.827 seconds.\n",
      "Loading model cost 0.835 seconds.\n",
      "Prefix dict has been built successfully.\n",
      "Prefix dict has been built successfully.\n"
     ]
    }
   ],
   "source": [
    "callback = ModelCheckpoint(monitor=\"val_acc\", mode=\"max\", save_top_k=1, verbose=True, dirpath='tb_logs')\n",
    "trainer = pl.Trainer(accelerator='gpu', devices=1, logger=logger, callbacks=[callback], max_epochs=100)\n",
    "trainer.fit(net, DataLoader(train, batch_size=64, num_workers=4), DataLoader(val, batch_size=64, num_workers=4))"
   ]
  }
 ],
 "metadata": {
  "interpreter": {
   "hash": "21bac44a2579471fb422f24ada59b7755552e433b846d8d3e893e5456907b211"
  },
  "kernelspec": {
   "display_name": "Python 3 (ipykernel)",
   "language": "python",
   "name": "python3"
  },
  "language_info": {
   "codemirror_mode": {
    "name": "ipython",
    "version": 3
   },
   "file_extension": ".py",
   "mimetype": "text/x-python",
   "name": "python",
   "nbconvert_exporter": "python",
   "pygments_lexer": "ipython3",
   "version": "3.9.10"
  }
 },
 "nbformat": 4,
 "nbformat_minor": 4
}
