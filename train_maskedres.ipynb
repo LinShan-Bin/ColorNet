{
 "cells": [
  {
   "cell_type": "code",
   "execution_count": null,
   "metadata": {},
   "outputs": [],
   "source": [
    "# !featurize dataset download 6878dbe0-2e3d-4065-92e0-1db6ec358071"
   ]
  },
  {
   "cell_type": "code",
   "execution_count": null,
   "metadata": {},
   "outputs": [],
   "source": [
    "# pip3 install --user torch torchvision torchaudio --extra-index-url https://download.pytorch.org/whl/cu113 --force-reinstall --upgrade"
   ]
  },
  {
   "cell_type": "code",
   "execution_count": null,
   "metadata": {},
   "outputs": [],
   "source": [
    "import torch\n",
    "from torch import nn\n",
    "import torch.nn.functional as F\n",
    "from torch.utils.data import DataLoader, random_split\n",
    "from torchvision.models import resnet50, convnext_tiny, convnext_base\n",
    "\n",
    "\n",
    "import utils\n",
    "import models\n",
    "import label_processor"
   ]
  },
  {
   "cell_type": "code",
   "execution_count": null,
   "metadata": {},
   "outputs": [],
   "source": [
    "DATA_PATH = '/home/featurize/data/medium/'\n",
    "# DATA_PATH = './dataset/medium/'\n",
    "embed = label_processor.CStdLib(single=True)\n",
    "CLASS_NUM = embed.class_num\n",
    "\n",
    "dataset = utils.ColorfulClothesCLF(DATA_PATH, class_num=CLASS_NUM, embed=embed, train=True)\n",
    "data_distribution = dataset.clean_and_analyse()\n",
    "print(data_distribution)\n",
    "small_len = int(len(dataset) * 0.002)\n",
    "small, _ = random_split(dataset, [small_len, len(dataset) - small_len])\n",
    "val_len = int(len(small) * 0.1)\n",
    "train, val = random_split(small, [len(small) - val_len, val_len])\n",
    "\n",
    "train_loader = DataLoader(train, batch_size=16, shuffle=True, num_workers=4)\n",
    "test_loader = DataLoader(val, batch_size=1, shuffle=False, num_workers=4)"
   ]
  },
  {
   "cell_type": "code",
   "execution_count": null,
   "metadata": {},
   "outputs": [],
   "source": [
    "model = convnext_tiny(pretrained=True)\n",
    "num_params = sum(p.numel() for p in model.parameters())\n",
    "print(\"Number of parameters: {}\".format(num_params))\n",
    "print(model)"
   ]
  },
  {
   "cell_type": "code",
   "execution_count": null,
   "metadata": {},
   "outputs": [],
   "source": [
    "model.fc = nn.Linear(768, CLASS_NUM)"
   ]
  },
  {
   "cell_type": "code",
   "execution_count": null,
   "metadata": {},
   "outputs": [],
   "source": [
    "loss_weight = (1. / data_distribution).to(torch.device('cuda:0' if torch.cuda.is_available() else 'cpu'))\n",
    "criterion = nn.CrossEntropyLoss(reduction='mean', weight=loss_weight)\n",
    "optimizer = torch.optim.Adam(model.parameters(), lr=1e-4, weight_decay=1e-4)\n",
    "trainer = utils.Trainer(model, class_num=CLASS_NUM, criterion=criterion, optimizer=optimizer, milestones=[5, 10, 15])"
   ]
  },
  {
   "cell_type": "code",
   "execution_count": null,
   "metadata": {},
   "outputs": [],
   "source": [
    "trainer.train(train_loader=train_loader, test_loader=test_loader, epochs=20)"
   ]
  }
 ],
 "metadata": {
  "interpreter": {
   "hash": "21bac44a2579471fb422f24ada59b7755552e433b846d8d3e893e5456907b211"
  },
  "kernelspec": {
   "display_name": "Python 3.9.10 ('prml')",
   "language": "python",
   "name": "python3"
  },
  "language_info": {
   "codemirror_mode": {
    "name": "ipython",
    "version": 3
   },
   "file_extension": ".py",
   "mimetype": "text/x-python",
   "name": "python",
   "nbconvert_exporter": "python",
   "pygments_lexer": "ipython3",
   "version": "3.9.10"
  },
  "orig_nbformat": 4
 },
 "nbformat": 4,
 "nbformat_minor": 2
}
